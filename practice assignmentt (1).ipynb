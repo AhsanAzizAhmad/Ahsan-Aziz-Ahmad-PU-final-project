{
 "cells": [
  {
   "cell_type": "code",
   "execution_count": 1,
   "id": "dbafb6ed",
   "metadata": {},
   "outputs": [],
   "source": [
    "## Exercise 1\n",
    "# Use a loop to display elements from a given list \n",
    "# present at odd index positions\n",
    "# Forexample\n",
    "    # my_list = [10, 20, 30, 40, 50, 60, 70, 80, 90, 100]\n",
    "    # output--> (1, 3, 5, an so on)"
   ]
  },
  {
   "cell_type": "code",
   "execution_count": 7,
   "id": "acca0326",
   "metadata": {},
   "outputs": [
    {
     "name": "stdout",
     "output_type": "stream",
     "text": [
      "20,40,60,80,100,"
     ]
    }
   ],
   "source": [
    "my_list = [10, 20, 30, 40, 50, 60, 70, 80, 90, 100]\n",
    "\n",
    "for i in my_list[1::2]:\n",
    "    print(i, end=\",\")"
   ]
  },
  {
   "cell_type": "code",
   "execution_count": 2,
   "id": "85ca990b",
   "metadata": {},
   "outputs": [],
   "source": [
    "## Exercise 2\n",
    "# Write a Python program that prints each item \n",
    "# and its corresponding type from the following list.\n",
    "# datalist = [1452, 11.23, 1+2j, True, 'w3resource', (0, -1), [5, 12], {\"class\":'V', \"section\":'A'}]\n",
    "# Forexample\n",
    "    # Type of  1452  is  <class 'int'>"
   ]
  },
  {
   "cell_type": "code",
   "execution_count": 12,
   "id": "e45382ca",
   "metadata": {},
   "outputs": [
    {
     "name": "stdout",
     "output_type": "stream",
     "text": [
      "Type of  1452  is  <class 'int'>\n",
      "Type of  11.23  is  <class 'float'>\n",
      "Type of  (1+2j)  is  <class 'complex'>\n",
      "Type of  True  is  <class 'bool'>\n",
      "Type of  w3resource  is  <class 'str'>\n",
      "Type of  (0, -1)  is  <class 'tuple'>\n",
      "Type of  [5, 12]  is  <class 'list'>\n",
      "Type of  {'class': 'V', 'section': 'A'}  is  <class 'dict'>\n"
     ]
    }
   ],
   "source": [
    "datalist = [1452, 11.23, 1+2j, True, 'w3resource', (0, -1), [5, 12], {\"class\":'V', \"section\":'A'}]\n",
    "\n",
    "for i in datalist:\n",
    "    print(\"Type of \",i, \" is \", type(i))"
   ]
  },
  {
   "cell_type": "code",
   "execution_count": 13,
   "id": "333fc6b5",
   "metadata": {},
   "outputs": [],
   "source": [
    "## Exercise 3\n",
    "# Take a string from user\n",
    "# Calculate the number of digits and letters in a string\n",
    "# Forexample:\n",
    "    # Letters 7\n",
    "    # Digits 1"
   ]
  },
  {
   "cell_type": "code",
   "execution_count": 14,
   "id": "c66e1984",
   "metadata": {},
   "outputs": [
    {
     "name": "stdout",
     "output_type": "stream",
     "text": [
      "Input a string: ny212\n",
      "Letters 2\n",
      "Digits 3\n"
     ]
    }
   ],
   "source": [
    "## Solution\n",
    "\n",
    "s = input(\"Input a string: \")\n",
    "d=l=0\n",
    "for c in s:\n",
    "    if c.isdigit():\n",
    "        d=d+1\n",
    "    elif c.isalpha():\n",
    "        l=l+1\n",
    "    else:\n",
    "        pass\n",
    "print(\"Letters\", l)\n",
    "print(\"Digits\", d)"
   ]
  },
  {
   "cell_type": "code",
   "execution_count": 4,
   "id": "9710c4f9",
   "metadata": {},
   "outputs": [],
   "source": [
    "## Exercise 4\n",
    "# Take an alphabet from user\n",
    "# Write a Python program to check whether an alphabet \n",
    "# is a vowel or consonant."
   ]
  },
  {
   "cell_type": "code",
   "execution_count": 15,
   "id": "15056b6b",
   "metadata": {},
   "outputs": [
    {
     "name": "stdout",
     "output_type": "stream",
     "text": [
      "Input a letter of the alphabet: u\n",
      "u is a vowel\n"
     ]
    }
   ],
   "source": [
    "## Solution\n",
    "\n",
    "l = input(\"Input a letter of the alphabet: \")\n",
    "if l in ['a', 'e', 'i', 'o', 'u']:\n",
    "    print(f'{l} is a vowel')\n",
    "else:\n",
    "    print(f'{l} is a consonent') "
   ]
  },
  {
   "cell_type": "code",
   "execution_count": null,
   "id": "57ce6842",
   "metadata": {},
   "outputs": [],
   "source": [
    "## Exercise 5\n",
    "# Take a number from user\n",
    "# Create the multiplication table of a number"
   ]
  },
  {
   "cell_type": "code",
   "execution_count": 16,
   "id": "85a6ba5c",
   "metadata": {},
   "outputs": [
    {
     "name": "stdout",
     "output_type": "stream",
     "text": [
      "Input a number: 7\n",
      "7 x 1 = 7\n",
      "7 x 2 = 14\n",
      "7 x 3 = 21\n",
      "7 x 4 = 28\n",
      "7 x 5 = 35\n",
      "7 x 6 = 42\n",
      "7 x 7 = 49\n",
      "7 x 8 = 56\n",
      "7 x 9 = 63\n",
      "7 x 10 = 70\n"
     ]
    }
   ],
   "source": [
    "n = int(input(\"Input a number: \"))\n",
    "\n",
    "# use for loop to iterate 10 times\n",
    "for i in range(1,11):\n",
    "    print(n,'x',i,'=',n*i)"
   ]
  },
  {
   "cell_type": "code",
   "execution_count": null,
   "id": "93c341ed",
   "metadata": {},
   "outputs": [],
   "source": []
  }
 ],
 "metadata": {
  "kernelspec": {
   "display_name": "Python 3 (ipykernel)",
   "language": "python",
   "name": "python3"
  },
  "language_info": {
   "codemirror_mode": {
    "name": "ipython",
    "version": 3
   },
   "file_extension": ".py",
   "mimetype": "text/x-python",
   "name": "python",
   "nbconvert_exporter": "python",
   "pygments_lexer": "ipython3",
   "version": "3.11.4"
  }
 },
 "nbformat": 4,
 "nbformat_minor": 5
}
