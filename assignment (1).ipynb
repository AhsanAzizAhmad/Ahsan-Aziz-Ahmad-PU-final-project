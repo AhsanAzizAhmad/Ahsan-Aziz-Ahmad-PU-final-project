{
 "cells": [
  {
   "cell_type": "code",
   "execution_count": 1,
   "id": "bceea3e0",
   "metadata": {},
   "outputs": [],
   "source": [
    "## Exercise\n",
    "\n",
    "# Num to string\n",
    "# Define a function which takes a list (having data of different types) and\n",
    "# return a list (having int and float data in string form)"
   ]
  },
  {
   "cell_type": "code",
   "execution_count": 2,
   "id": "426e9c78",
   "metadata": {},
   "outputs": [],
   "source": [
    "def int_float_filtering(mixed):\n",
    "    output = []\n",
    "    for i in mixed:\n",
    "        if type(i) == int or type(i) == float:\n",
    "            output.append(str(i))\n",
    "    return output"
   ]
  },
  {
   "cell_type": "code",
   "execution_count": 3,
   "id": "e749a367",
   "metadata": {},
   "outputs": [
    {
     "name": "stdout",
     "output_type": "stream",
     "text": [
      "['0.1', '0.2', '0.5', '1', '2', '3']\n"
     ]
    }
   ],
   "source": [
    "mixed = [\"apple\", 0.1, 0.2, \"mango\", [1, 2, 3], 0.5, \"peech\", [4, 5, 6], 1, 2, 3, [7, 8, 9]]\n",
    "print(int_float_filtering(mixed))"
   ]
  },
  {
   "cell_type": "code",
   "execution_count": 4,
   "id": "83e55629",
   "metadata": {},
   "outputs": [
    {
     "name": "stdout",
     "output_type": "stream",
     "text": [
      "['0.1', '0.2', '0.5', '1', '2', '3']\n"
     ]
    }
   ],
   "source": [
    "def int_float_filtering(mixed):\n",
    "    return [str(i) for i in mixed if type(i) == int or type(i) == float]\n",
    "\n",
    "\n",
    "mixed = [\"apple\", 0.1, 0.2, \"mango\", [1, 2, 3], 0.5, \"peech\", [4, 5, 6], 1, 2, 3, [7, 8, 9]]\n",
    "print(int_float_filtering(mixed))"
   ]
  },
  {
   "cell_type": "code",
   "execution_count": 5,
   "id": "dd5b2e4f",
   "metadata": {},
   "outputs": [],
   "source": [
    "### Nested if-statement in list comprehension"
   ]
  },
  {
   "cell_type": "code",
   "execution_count": 6,
   "id": "b95b9ead",
   "metadata": {},
   "outputs": [],
   "source": [
    "## Exercise\n",
    "\n",
    "# Define a function which takes a list (having data of different types) and\n",
    "# return a list (having string data starts from 'a')\n",
    "# used nested if-statement to solve it"
   ]
  },
  {
   "cell_type": "code",
   "execution_count": 7,
   "id": "13ccb5b0",
   "metadata": {},
   "outputs": [
    {
     "name": "stdout",
     "output_type": "stream",
     "text": [
      "['apple', 'apricots', 'avocados']\n"
     ]
    }
   ],
   "source": [
    "def string_filtering(mixed):\n",
    "    output = []\n",
    "    for i in mixed:\n",
    "        if type(i) == str:\n",
    "            if i[0] == 'a' or i[0] == 'A':\n",
    "                output.append(i)\n",
    "    print(output)\n",
    "\n",
    "mixed = [\"apple\", 0.1, 0.2, \"mango\",'apricots', [1, 2, 3], 0.5, \"peech\", [4, 5, 6], 1, 2, 3, [7, 8, 9],'avocados']\n",
    "string_filtering(mixed)"
   ]
  },
  {
   "cell_type": "code",
   "execution_count": 9,
   "id": "d8fcaa43",
   "metadata": {},
   "outputs": [
    {
     "name": "stdout",
     "output_type": "stream",
     "text": [
      "['apple', 'apricots', 'avocados']\n"
     ]
    }
   ],
   "source": [
    "## List Comprehension Solution\n",
    "\n",
    "def int_float_filtering(mixed):\n",
    "    output = [str(i) for i in mixed if type(i) == str if i[0] == 'a' or i[0] == 'A']\n",
    "    print(output)\n",
    "\n",
    "mixed = [\"apple\", 0.1, 0.2, \"mango\",'apricots', [1, 2, 3], 0.5, \"peech\", [4, 5, 6], 1, 2, 3, [7, 8, 9],'avocados']\n",
    "int_float_filtering(mixed)"
   ]
  },
  {
   "cell_type": "code",
   "execution_count": 10,
   "id": "2ee42638",
   "metadata": {},
   "outputs": [],
   "source": [
    "### if-else statement in list comprehension"
   ]
  },
  {
   "cell_type": "code",
   "execution_count": 11,
   "id": "bde941ef",
   "metadata": {},
   "outputs": [],
   "source": [
    "# In single if statement, condition comes after for loop but,\n",
    "# In if else statement condtion before for loop"
   ]
  },
  {
   "cell_type": "code",
   "execution_count": 12,
   "id": "ca983dcd",
   "metadata": {},
   "outputs": [],
   "source": [
    "## Exercise\n",
    "\n",
    "# Take a list of numbers from 1 to 10 and\n",
    "# if number will odd, then convert it in negative\n",
    "# and if number will even, then covert into its square"
   ]
  },
  {
   "cell_type": "code",
   "execution_count": null,
   "id": "4bc38957",
   "metadata": {},
   "outputs": [],
   "source": [
    "[-1, 4, -3, 16, -5, 36, -7, 64, -9, 100]"
   ]
  },
  {
   "cell_type": "code",
   "execution_count": 13,
   "id": "baa4937e",
   "metadata": {},
   "outputs": [
    {
     "name": "stdout",
     "output_type": "stream",
     "text": [
      "[-1, 4, -3, 16, -5, 36, -7, 64, -9, 100]\n"
     ]
    }
   ],
   "source": [
    "## Simple Solution\n",
    "\n",
    "output = []\n",
    "for i in range(1, 11):\n",
    "    if (i % 2 == 0):\n",
    "        output.append(i**2)\n",
    "    else:\n",
    "        output.append(-i)\n",
    "print(output)"
   ]
  },
  {
   "cell_type": "code",
   "execution_count": 15,
   "id": "ef83e7b3",
   "metadata": {},
   "outputs": [
    {
     "name": "stdout",
     "output_type": "stream",
     "text": [
      "[-1, 4, -3, 16, -5, 36, -7, 64, -9, 100]\n"
     ]
    }
   ],
   "source": [
    "print([i**2 if i % 2 == 0 else -i for i in range(1, 11)])"
   ]
  },
  {
   "cell_type": "code",
   "execution_count": null,
   "id": "c53289de",
   "metadata": {},
   "outputs": [],
   "source": [
    "## Exercise (nested-else)\n",
    "\n",
    "# Take a list of numbers from 1 to 10 and\n",
    "# if number will even, then covert into its square and\n",
    "# if number will odd, and can be divided to 3 then convert it in negative and\n",
    "# if number will odd, and cannot be divided to 3 then multiply it to 3"
   ]
  },
  {
   "cell_type": "code",
   "execution_count": null,
   "id": "d82bc83e",
   "metadata": {},
   "outputs": [],
   "source": [
    "[3, 4, -3, 16, 15, 36, 21, 64, -9, 100]"
   ]
  },
  {
   "cell_type": "code",
   "execution_count": 16,
   "id": "f14863ea",
   "metadata": {},
   "outputs": [
    {
     "name": "stdout",
     "output_type": "stream",
     "text": [
      "[3, 4, -3, 16, 15, 36, 21, 64, -9, 100]\n"
     ]
    }
   ],
   "source": [
    "## Simple Solution\n",
    "\n",
    "output = []\n",
    "for i in range(1, 11):\n",
    "    if (i % 2 == 0):\n",
    "        output.append(i**2)\n",
    "    else:\n",
    "        if (i % 3 == 0):\n",
    "            output.append(-i)\n",
    "        else:\n",
    "            output.append(i*3)\n",
    "print(output)"
   ]
  },
  {
   "cell_type": "code",
   "execution_count": 17,
   "id": "5fad5c89",
   "metadata": {
    "scrolled": true
   },
   "outputs": [
    {
     "name": "stdout",
     "output_type": "stream",
     "text": [
      "[3, 4, -3, 16, 15, 36, 21, 64, -9, 100]\n"
     ]
    }
   ],
   "source": [
    "print([i**2 if (i % 2 == 0) else -i if (i % 3 == 0) else i*3 for i in range(1, 11)])"
   ]
  },
  {
   "cell_type": "markdown",
   "id": "cb8c850e",
   "metadata": {},
   "source": [
    "### Dictionary comprehension"
   ]
  },
  {
   "cell_type": "code",
   "execution_count": 18,
   "id": "ee1a79b2",
   "metadata": {},
   "outputs": [
    {
     "name": "stdout",
     "output_type": "stream",
     "text": [
      "{1: 1, 2: 4, 3: 9, 4: 16, 5: 25, 6: 36, 7: 49, 8: 64, 9: 81}\n"
     ]
    }
   ],
   "source": [
    "output = {}\n",
    "for num in range(1,10):\n",
    "    output[num] = num**2\n",
    "print(output)"
   ]
  },
  {
   "cell_type": "code",
   "execution_count": 19,
   "id": "462ea4d4",
   "metadata": {},
   "outputs": [
    {
     "name": "stdout",
     "output_type": "stream",
     "text": [
      "{1: 1, 2: 4, 3: 9, 4: 16, 5: 25, 6: 36, 7: 49, 8: 64, 9: 81}\n"
     ]
    }
   ],
   "source": [
    "print({num:num**2 for num in range(1,10)})"
   ]
  },
  {
   "cell_type": "code",
   "execution_count": 21,
   "id": "606f22f0",
   "metadata": {},
   "outputs": [
    {
     "name": "stdout",
     "output_type": "stream",
     "text": [
      "{'square of 2 is': 4, 'square of 3 is': 9, 'square of 4 is': 16, 'square of 5 is': 25}\n"
     ]
    }
   ],
   "source": [
    "# We can also use string formating here\n",
    "squre = {f\"square of {num} is\" :num**2 for num in range(2,6)}\n",
    "print(squre)"
   ]
  },
  {
   "cell_type": "code",
   "execution_count": null,
   "id": "91ee62ee",
   "metadata": {},
   "outputs": [],
   "source": []
  }
 ],
 "metadata": {
  "kernelspec": {
   "display_name": "Python 3 (ipykernel)",
   "language": "python",
   "name": "python3"
  },
  "language_info": {
   "codemirror_mode": {
    "name": "ipython",
    "version": 3
   },
   "file_extension": ".py",
   "mimetype": "text/x-python",
   "name": "python",
   "nbconvert_exporter": "python",
   "pygments_lexer": "ipython3",
   "version": "3.12.4"
  }
 },
 "nbformat": 4,
 "nbformat_minor": 5
}
