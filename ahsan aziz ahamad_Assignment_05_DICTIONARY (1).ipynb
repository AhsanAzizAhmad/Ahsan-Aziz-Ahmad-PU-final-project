{
 "cells": [
  {
   "cell_type": "markdown",
   "id": "d3b1242a",
   "metadata": {},
   "source": [
    "### Assignment-05 (DICTIONARY)\n",
    "- Change the notebook name with your name and Roll Number.\n",
    "- Try this as your own, no chatgpt (it's for your learning)\n",
    "- after completing the assignment, submit this book on google class room."
   ]
  },
  {
   "cell_type": "markdown",
   "id": "3079cae1",
   "metadata": {},
   "source": [
    "    Create an empty dictionary and print it.\n"
   ]
  },
  {
   "cell_type": "code",
   "execution_count": 1,
   "id": "1e0b1c0d",
   "metadata": {},
   "outputs": [
    {
     "data": {
      "text/plain": [
       "{}"
      ]
     },
     "execution_count": 1,
     "metadata": {},
     "output_type": "execute_result"
    }
   ],
   "source": [
    "dict={}\n",
    "dict"
   ]
  },
  {
   "cell_type": "markdown",
   "id": "c02f03e9",
   "metadata": {},
   "source": [
    "    Create a dictionary representing a person with keys such as 'name', 'age', and 'city'.\n"
   ]
  },
  {
   "cell_type": "code",
   "execution_count": 5,
   "id": "1c55f8a0",
   "metadata": {},
   "outputs": [
    {
     "data": {
      "text/plain": [
       "{'age', 'city', 'name'}"
      ]
     },
     "execution_count": 5,
     "metadata": {},
     "output_type": "execute_result"
    }
   ],
   "source": [
    "#dict1 =\n",
    "{\n",
    "    \"name\",\n",
    "    \"age\",\n",
    "    \"city\"\n",
    "}"
   ]
  },
  {
   "cell_type": "markdown",
   "id": "3de2a866",
   "metadata": {},
   "source": [
    "    Create a dictionary that includes keys with different data types (strings, integers)."
   ]
  },
  {
   "cell_type": "code",
   "execution_count": 7,
   "id": "89c0b2ee",
   "metadata": {},
   "outputs": [
    {
     "data": {
      "text/plain": [
       "{'name': 'ahsan', 'age': 24, 'city': 'lahore'}"
      ]
     },
     "execution_count": 7,
     "metadata": {},
     "output_type": "execute_result"
    }
   ],
   "source": [
    "#dict1 =\n",
    "{\n",
    "    \"name\":\"ahsan\",\n",
    "    \"age\":24,\n",
    "    \"city\":\"lahore\"\n",
    "}"
   ]
  },
  {
   "cell_type": "markdown",
   "id": "41ce050c",
   "metadata": {},
   "source": [
    "Access and print the value associated with a specific key."
   ]
  },
  {
   "cell_type": "code",
   "execution_count": 9,
   "id": "ec5dbc94",
   "metadata": {},
   "outputs": [
    {
     "name": "stdout",
     "output_type": "stream",
     "text": [
      "ahsan\n",
      "24\n",
      "lahore\n"
     ]
    }
   ],
   "source": [
    "dict1={\n",
    "    \"name\":\"ahsan\",\n",
    "    \"age\":24,\n",
    "    \"city\":\"lahore\"\n",
    "} \n",
    "for values in dict1.values():\n",
    "    print(values)"
   ]
  },
  {
   "cell_type": "markdown",
   "id": "b6b0c37d",
   "metadata": {},
   "source": [
    "    Use the get() method to access a value, providing a default value if the key is not present.\n"
   ]
  },
  {
   "cell_type": "code",
   "execution_count": 10,
   "id": "7aa9e88c",
   "metadata": {},
   "outputs": [
    {
     "name": "stdout",
     "output_type": "stream",
     "text": [
      "ahsan\n",
      "24\n",
      "lahore\n",
      "not found\n"
     ]
    }
   ],
   "source": [
    "data = {\n",
    "    \"name\": \"ahsan\",\n",
    "    \"age\": 24,\n",
    "    \"city\": \"lahore\"\n",
    "}\n",
    "print(data.get(\"name\", \"not found\"))   \n",
    "print(data.get(\"age\", \"not found\"))   \n",
    "print(data.get(\"city\", \"not found\"))  \n",
    "print(data.get(\"country\", \"not found\")) \n"
   ]
  },
  {
   "cell_type": "markdown",
   "id": "fd070da0",
   "metadata": {},
   "source": [
    "    Iterate through the keys of a dictionary and print each key."
   ]
  },
  {
   "cell_type": "code",
   "execution_count": 13,
   "id": "20a421cc",
   "metadata": {},
   "outputs": [
    {
     "name": "stdout",
     "output_type": "stream",
     "text": [
      "name\n",
      "age\n",
      "city\n"
     ]
    }
   ],
   "source": [
    "data = {\n",
    "    \"name\": \"ahsan\",\n",
    "    \"age\": 24,\n",
    "    \"city\": \"lahore\"\n",
    "}\n",
    "\n",
    "for key in data:\n",
    "    print(key)\n"
   ]
  },
  {
   "cell_type": "markdown",
   "id": "b743bd62",
   "metadata": {},
   "source": [
    "Add a new key-value pair to a dictionary."
   ]
  },
  {
   "cell_type": "code",
   "execution_count": 14,
   "id": "db404144",
   "metadata": {},
   "outputs": [
    {
     "name": "stdout",
     "output_type": "stream",
     "text": [
      "{'name': 'ahsan', 'age': 24, 'city': 'lahore', 'country': 'Pakistan'}\n"
     ]
    }
   ],
   "source": [
    "data = {\n",
    "    \"name\": \"ahsan\",\n",
    "    \"age\": 24,\n",
    "    \"city\": \"lahore\"\n",
    "}\n",
    "data[\"country\"] = \"Pakistan\"\n",
    "print(data)"
   ]
  },
  {
   "cell_type": "markdown",
   "id": "ef13537b",
   "metadata": {},
   "source": [
    "Modify the value associated with an existing key."
   ]
  },
  {
   "cell_type": "code",
   "execution_count": 15,
   "id": "5e655290",
   "metadata": {},
   "outputs": [
    {
     "name": "stdout",
     "output_type": "stream",
     "text": [
      "{'name': 'ahsan', 'age': 24, 'city': 'karachi'}\n"
     ]
    }
   ],
   "source": [
    "data = {\n",
    "    \"name\": \"ahsan\",\n",
    "    \"age\": 24,\n",
    "    \"city\": \"lahore\"\n",
    "}\n",
    "data[\"city\"] = \"karachi\"\n",
    "print(data)"
   ]
  },
  {
   "cell_type": "markdown",
   "id": "2ff9fb92",
   "metadata": {},
   "source": [
    "Remove a specific key-value pair from a dictionary using the pop() method.\n",
    "\n"
   ]
  },
  {
   "cell_type": "code",
   "execution_count": 17,
   "id": "1bdb4169",
   "metadata": {},
   "outputs": [
    {
     "name": "stdout",
     "output_type": "stream",
     "text": [
      "Removed value: 24\n",
      "Updated dictionary: {'name': 'ahsan', 'city': 'lahore'}\n"
     ]
    }
   ],
   "source": [
    "data = {\n",
    "    \"name\": \"ahsan\",\n",
    "    \"age\": 24,\n",
    "    \"city\": \"lahore\"\n",
    "}\n",
    "# Remove the \"age\" key\n",
    "removed_value = data.pop(\"age\", \"Key not found\")\n",
    "\n",
    "print(\"Removed value:\", removed_value)\n",
    "print(\"Updated dictionary:\", data)\n"
   ]
  },
  {
   "cell_type": "markdown",
   "id": "edc2abf7",
   "metadata": {},
   "source": [
    "    Remove a specific key-value pair from a dictionary using the del statement."
   ]
  },
  {
   "cell_type": "code",
   "execution_count": 19,
   "id": "538eca73",
   "metadata": {},
   "outputs": [
    {
     "name": "stdout",
     "output_type": "stream",
     "text": [
      "{'name': 'ahsan', 'age': 24}\n"
     ]
    }
   ],
   "source": [
    "data = {\n",
    "    \"name\": \"ahsan\",\n",
    "    \"age\": 24,\n",
    "    \"city\": \"lahore\"\n",
    "}\n",
    "del data[\"city\"]\n",
    "print(data)\n"
   ]
  },
  {
   "cell_type": "markdown",
   "id": "0f2d7e6a",
   "metadata": {},
   "source": [
    "Convert a dictionary to a list of keys."
   ]
  },
  {
   "cell_type": "code",
   "execution_count": 20,
   "id": "5705250c",
   "metadata": {},
   "outputs": [
    {
     "name": "stdout",
     "output_type": "stream",
     "text": [
      "['name', 'age', 'city']\n"
     ]
    }
   ],
   "source": [
    "data = {\n",
    "    \"name\": \"ahsan\",\n",
    "    \"age\": 24,\n",
    "    \"city\": \"lahore\"\n",
    "}\n",
    "keys_list = list(data.keys())\n",
    "print(keys_list)"
   ]
  },
  {
   "cell_type": "markdown",
   "id": "1191e090",
   "metadata": {},
   "source": [
    "    Convert a dictionary to a list of values.\n"
   ]
  },
  {
   "cell_type": "code",
   "execution_count": 21,
   "id": "e89b908a",
   "metadata": {},
   "outputs": [
    {
     "name": "stdout",
     "output_type": "stream",
     "text": [
      "['ahsan', 24, 'lahore']\n"
     ]
    }
   ],
   "source": [
    "data = {\n",
    "    \"name\": \"ahsan\",\n",
    "    \"age\": 24,\n",
    "    \"city\": \"lahore\"\n",
    "}\n",
    "keys_list = list(data.values())\n",
    "print(keys_list)"
   ]
  },
  {
   "cell_type": "markdown",
   "id": "f72c7f5e",
   "metadata": {},
   "source": [
    "    Convert a list of tuples to a dictionary."
   ]
  },
  {
   "cell_type": "code",
   "execution_count": 23,
   "id": "2f531bc4",
   "metadata": {},
   "outputs": [
    {
     "ename": "TypeError",
     "evalue": "'dict' object is not callable",
     "output_type": "error",
     "traceback": [
      "\u001b[1;31m---------------------------------------------------------------------------\u001b[0m",
      "\u001b[1;31mTypeError\u001b[0m                                 Traceback (most recent call last)",
      "Cell \u001b[1;32mIn[23], line 5\u001b[0m\n\u001b[0;32m      2\u001b[0m tuples_list \u001b[38;5;241m=\u001b[39m [(\u001b[38;5;124m\"\u001b[39m\u001b[38;5;124mname\u001b[39m\u001b[38;5;124m\"\u001b[39m, \u001b[38;5;124m\"\u001b[39m\u001b[38;5;124mahsan\u001b[39m\u001b[38;5;124m\"\u001b[39m), (\u001b[38;5;124m\"\u001b[39m\u001b[38;5;124mage\u001b[39m\u001b[38;5;124m\"\u001b[39m, \u001b[38;5;241m24\u001b[39m), (\u001b[38;5;124m\"\u001b[39m\u001b[38;5;124mcity\u001b[39m\u001b[38;5;124m\"\u001b[39m, \u001b[38;5;124m\"\u001b[39m\u001b[38;5;124mlahore\u001b[39m\u001b[38;5;124m\"\u001b[39m)]\n\u001b[0;32m      4\u001b[0m \u001b[38;5;66;03m# Convert to dictionary\u001b[39;00m\n\u001b[1;32m----> 5\u001b[0m data \u001b[38;5;241m=\u001b[39m \u001b[38;5;28mdict\u001b[39m(tuples_list)\n\u001b[0;32m      7\u001b[0m \u001b[38;5;28mprint\u001b[39m(data)\n",
      "\u001b[1;31mTypeError\u001b[0m: 'dict' object is not callable"
     ]
    }
   ],
   "source": [
    "# List of tuples\n",
    "tuples_list = [(\"name\", \"ahsan\"), (\"age\", 24), (\"city\", \"lahore\")]\n",
    "data = dict(tuples_list)\n",
    "print(data)\n"
   ]
  },
  {
   "cell_type": "markdown",
   "id": "8ce9bedf",
   "metadata": {},
   "source": [
    "Use the keys() method to get a list of keys in a dictionary.\n"
   ]
  },
  {
   "cell_type": "code",
   "execution_count": null,
   "id": "7d975a45",
   "metadata": {},
   "outputs": [],
   "source": []
  },
  {
   "cell_type": "markdown",
   "id": "8adb7c9d",
   "metadata": {},
   "source": [
    "\n",
    "    Use the values() method to get a list of values in a dictionary.\n"
   ]
  },
  {
   "cell_type": "code",
   "execution_count": 25,
   "id": "fb8a455c",
   "metadata": {},
   "outputs": [
    {
     "name": "stdout",
     "output_type": "stream",
     "text": [
      "['ahsan', 24, 'lahore']\n"
     ]
    }
   ],
   "source": [
    "data = {\n",
    "    \"name\": \"ahsan\",\n",
    "    \"age\": 24,\n",
    "    \"city\": \"lahore\"\n",
    "}\n",
    "\n",
    "# Get a list of keys using .keys()\n",
    "keys_list = list(data.values())\n",
    "\n",
    "print(keys_list)\n"
   ]
  },
  {
   "cell_type": "markdown",
   "id": "b4b044e4",
   "metadata": {},
   "source": [
    "    Use the items() method to get a list of key-value pairs in a dictionary."
   ]
  },
  {
   "cell_type": "code",
   "execution_count": 26,
   "id": "ca390b74",
   "metadata": {},
   "outputs": [
    {
     "name": "stdout",
     "output_type": "stream",
     "text": [
      "[('name', 'ahsan'), ('age', 24), ('city', 'lahore')]\n"
     ]
    }
   ],
   "source": [
    "data = {\n",
    "    \"name\": \"ahsan\",\n",
    "    \"age\": 24,\n",
    "    \"city\": \"lahore\"\n",
    "}\n",
    "items_list = list(data.items())\n",
    "print(items_list)"
   ]
  },
  {
   "cell_type": "markdown",
   "id": "bd4eb41b",
   "metadata": {},
   "source": [
    "Check if a key is present in a dictionary using the in operator.\n",
    "\n"
   ]
  },
  {
   "cell_type": "code",
   "execution_count": 28,
   "id": "39c2a92f",
   "metadata": {},
   "outputs": [
    {
     "name": "stdout",
     "output_type": "stream",
     "text": [
      "The key 'age' is present in the dictionary.\n"
     ]
    }
   ],
   "source": [
    "data = {\n",
    "    \"name\": \"ahsan\",\n",
    "    \"age\": 24,\n",
    "    \"city\": \"lahore\"\n",
    "}\n",
    "if \"age\" in data:\n",
    "    print(\"The key 'age' is present in the dictionary.\")\n",
    "else:\n",
    "    print(\"The key 'age' is not present in the dictionary.\")\n"
   ]
  },
  {
   "cell_type": "code",
   "execution_count": null,
   "id": "cc19bd44",
   "metadata": {},
   "outputs": [],
   "source": []
  },
  {
   "cell_type": "markdown",
   "id": "5dd9b173",
   "metadata": {},
   "source": [
    "    Merge two dictionaries using the update() method.\n"
   ]
  },
  {
   "cell_type": "code",
   "execution_count": 29,
   "id": "05e95981",
   "metadata": {},
   "outputs": [
    {
     "name": "stdout",
     "output_type": "stream",
     "text": [
      "{'name': 'ahsan', 'age': 25, 'city': 'lahore'}\n"
     ]
    }
   ],
   "source": [
    "# Two dictionaries\n",
    "dict1 = {\n",
    "    \"name\": \"ahsan\",\n",
    "    \"age\": 24\n",
    "}\n",
    "\n",
    "dict2 = {\n",
    "    \"city\": \"lahore\",\n",
    "    \"age\": 25\n",
    "}\n",
    "dict1.update(dict2)\n",
    "\n",
    "print(dict1)\n"
   ]
  },
  {
   "cell_type": "code",
   "execution_count": null,
   "id": "bdf48d4c",
   "metadata": {},
   "outputs": [],
   "source": []
  },
  {
   "cell_type": "code",
   "execution_count": null,
   "id": "5413ac21-1a79-4204-af78-485ecaeaf522",
   "metadata": {},
   "outputs": [],
   "source": []
  }
 ],
 "metadata": {
  "kernelspec": {
   "display_name": "Python 3 (ipykernel)",
   "language": "python",
   "name": "python3"
  },
  "language_info": {
   "codemirror_mode": {
    "name": "ipython",
    "version": 3
   },
   "file_extension": ".py",
   "mimetype": "text/x-python",
   "name": "python",
   "nbconvert_exporter": "python",
   "pygments_lexer": "ipython3",
   "version": "3.12.4"
  }
 },
 "nbformat": 4,
 "nbformat_minor": 5
}
